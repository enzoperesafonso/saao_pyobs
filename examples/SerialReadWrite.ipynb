{
 "cells": [
  {
   "cell_type": "code",
   "execution_count": 1,
   "id": "8afd5e98-68a5-49a8-9245-e4a2e8c84cf3",
   "metadata": {},
   "outputs": [
    {
     "name": "stdout",
     "output_type": "stream",
     "text": [
      "working\n"
     ]
    }
   ],
   "source": [
    "import serial\n",
    "import numpy as np\n",
    "import os\n",
    "import matplotlib.pyplot as plt\n",
    "import timeit\n",
    "from datetime import datetime, timezone\n",
    "print(\"working\")\n",
    "\n",
    "def encodeAngle(alpha):\n",
    "    alpha = alpha % 360\n",
    "    integer = int((alpha/360) * 2**24)\n",
    "    b = bin(integer)\n",
    "    length = len(b[2:])\n",
    "    add = 24 - length\n",
    "    b = b[:2] + add*\"0\" + b[2:]\n",
    "    b1 = b[2:10]\n",
    "    b2 = b[10:18]\n",
    "    b3 = b[18:26]\n",
    "    b1 = int(b1, 2)\n",
    "    b2 = int(b2, 2)\n",
    "    b3 = int(b3, 2)\n",
    "    h1 = hex(b1)[2:]\n",
    "    h2 = hex(b2)[2:]\n",
    "    h3 = hex(b3)[2:]\n",
    "    if len(h1) < 2:\n",
    "        h1 = \"0\" + h1\n",
    "    if len(h2) < 2:\n",
    "        h2 = \"0\" + h2\n",
    "    if len(h3) < 2:\n",
    "        h3 = \"0\" + h3\n",
    "    \n",
    "    return h1, h2, h3\n",
    "    \n",
    "#print(encodeAngle(90))\n",
    "def decodeAngle(h1, h2, h3):\n",
    "    v1 = int(h1, 16)\n",
    "    v2 = int(h2, 16)\n",
    "    v3 = int(h3, 16)\n",
    "    integer = 2**16 * v1 + 2**8 * v2 + v3\n",
    "    angle = (integer/2**24) * 360 \n",
    "    return angle\n",
    "\n",
    "def GOTO_DEC(alpha, fast = True):\n",
    "    h1, h2, h3 = encodeAngle(alpha)\n",
    "    if fast is True:\n",
    "        dec = \"50041102\" # fast\n",
    "    else:\n",
    "        dec = \"50041117\" # slow \n",
    "    dec += h1+h2+h3+\"00\"\n",
    "    return dec \n",
    "\n",
    "def hourToAngle(hour, minute, second):\n",
    "    hour = hour % 24\n",
    "    minute = minute % 60\n",
    "    second = second % 60\n",
    "    hour = hour + minute * (1/60) + second * (1/3600)\n",
    "    angle = (hour/24) * 360\n",
    "    return angle\n",
    "\n",
    "def AngleToHour(alpha):\n",
    "    alpha = (alpha / 360) * 24\n",
    "    hour = int(alpha % 24)\n",
    "    rest = alpha % 24 - hour\n",
    "    minute = int(rest * 60)\n",
    "    rest = rest * 60 - minute\n",
    "    second = int(rest * 60)\n",
    "    return hour, minute, second\n",
    "\n",
    "### needs to be corrected for hours ###\n",
    "def GOTO_RA(alpha, fast = True):\n",
    "    h1, h2, h3 = encodeAngle(alpha)\n",
    "    if fast is True:\n",
    "        ra = \"50041002\" # fast\n",
    "    else:\n",
    "        ra = \"50041017\" # slow\n",
    "    ra += h1+h2+h3+\"00\"\n",
    "    return ra \n",
    "\n",
    "def GET_RA():\n",
    "    GET_RA = \"5001100100000003\"\n",
    "    s = bytes.fromhex(GET_RA)\n",
    "    ser.write(s)\n",
    "    data = ser.readline()\n",
    "    h1 = hex(data[0])[2:]\n",
    "    h2 = hex(data[1])[2:]\n",
    "    h3 = hex(data[2])[2:]\n",
    "    \n",
    "    if len(h1) < 2:\n",
    "        h1 = \"0\" + h1\n",
    "    if len(h2) < 2:\n",
    "        h2 = \"0\" + h2\n",
    "    if len(h3) < 2:\n",
    "        h3 = \"0\" + h3\n",
    "        \n",
    "    angle = decodeAngle(h1, h2, h3)\n",
    "    return angle\n",
    "\n",
    "def GET_DEC():\n",
    "    GET_DEC = \"5001110100000003\"\n",
    "    s = bytes.fromhex(GET_DEC)\n",
    "    ser.write(s)\n",
    "    data = ser.readline()\n",
    "    h1 = hex(data[0])[2:]\n",
    "    h2 = hex(data[1])[2:]\n",
    "    h3 = hex(data[2])[2:]\n",
    "    \n",
    "    if len(h1) < 2:\n",
    "        h1 = \"0\" + h1\n",
    "    if len(h2) < 2:\n",
    "        h2 = \"0\" + h2\n",
    "    if len(h3) < 2:\n",
    "        h3 = \"0\" + h3\n",
    "        \n",
    "    angle = decodeAngle(h1, h2, h3)\n",
    "    return angle\n",
    "    "
   ]
  },
  {
   "cell_type": "code",
   "execution_count": 5,
   "id": "d5268ecb-46d1-4d05-ae88-d304ecf1fd8a",
   "metadata": {},
   "outputs": [
    {
     "name": "stdout",
     "output_type": "stream",
     "text": [
      "COM5\n"
     ]
    }
   ],
   "source": [
    "#ser = serial.Serial('COM3', baudrate=9600, timeout=0.1, parity = serial.PARITY_NONE, stopbits = serial.STOPBITS_ONE)\n",
    "ser = serial.Serial('COM5', baudrate=9600, timeout=0.1)\n",
    "print(ser.name)"
   ]
  },
  {
   "cell_type": "code",
   "execution_count": 4,
   "id": "126d59aa-c4b3-4d87-a51c-c55e95a16f96",
   "metadata": {},
   "outputs": [],
   "source": [
    "ser.close()"
   ]
  },
  {
   "cell_type": "code",
   "execution_count": 18,
   "id": "1d03ee0d-5177-4c16-ac0d-51d43d089c6a",
   "metadata": {},
   "outputs": [
    {
     "name": "stdout",
     "output_type": "stream",
     "text": [
      "b'Mn#'\n"
     ]
    },
    {
     "data": {
      "text/plain": [
       "3"
      ]
     },
     "execution_count": 18,
     "metadata": {},
     "output_type": "execute_result"
    }
   ],
   "source": [
    "s = \"Mn#\"\n",
    "#s = \"Sr14:50.0#\"\n",
    "s = bytes(s, 'utf-8')\n",
    "print(s)\n",
    "#s = bytes.fromhex(s)\n",
    "#a = byte.decode(\"ASCII\")\n",
    "ser.write(s)"
   ]
  },
  {
   "cell_type": "code",
   "execution_count": 17,
   "id": "429742a1-0a2e-4910-adcd-27dd54b2b6c0",
   "metadata": {},
   "outputs": [
    {
     "name": "stdout",
     "output_type": "stream",
     "text": [
      "b'Sw4#'\n"
     ]
    },
    {
     "data": {
      "text/plain": [
       "4"
      ]
     },
     "execution_count": 17,
     "metadata": {},
     "output_type": "execute_result"
    }
   ],
   "source": [
    "s = \"Sw4#\"\n",
    "#s = \"Sr14:50.0#\"\n",
    "s = bytes(s, 'utf-8')\n",
    "print(s)\n",
    "#s = bytes.fromhex(s)\n",
    "#a = byte.decode(\"ASCII\")\n",
    "ser.write(s)"
   ]
  },
  {
   "cell_type": "code",
   "execution_count": 22,
   "id": "40691b5d-e4c3-4b79-bb05-1d75f36edc40",
   "metadata": {},
   "outputs": [
    {
     "name": "stdout",
     "output_type": "stream",
     "text": [
      "b'Sw4#'\n",
      "b''\n"
     ]
    }
   ],
   "source": [
    "s = \"Sw4#\"\n",
    "#s = \"Sr14:50.0#\"\n",
    "s = bytes(s, 'utf-8')\n",
    "print(s)\n",
    "#s = bytes.fromhex(s)\n",
    "#a = byte.decode(\"ASCII\")\n",
    "ser.write(s)\n",
    "data = ser.readline()\n",
    "print(data)"
   ]
  },
  {
   "cell_type": "code",
   "execution_count": 30,
   "id": "6e185167-a127-4372-80dd-d29f6af38a1f",
   "metadata": {},
   "outputs": [
    {
     "name": "stdout",
     "output_type": "stream",
     "text": [
      "b'Gr#'\n",
      "b''\n"
     ]
    }
   ],
   "source": [
    "#s = \"7111435\"\n",
    "s = \"477223\"\n",
    "s = \"Gr#\"\n",
    "#s = \"Sr14:50.0#\"\n",
    "#s = bytes(s, 'ASCII')\n",
    "s = bytes(s, 'utf-8')\n",
    "print(s)\n",
    "#print(s)\n",
    "#s = bytes.fromhex(s)\n",
    "#a = byte.decode(\"ASCII\")\n",
    "ser.write(s)\n",
    "\n",
    "data = ser.readline()\n",
    "print(data)"
   ]
  },
  {
   "cell_type": "code",
   "execution_count": null,
   "id": "b266323e-03ba-4c49-9964-e63a11425561",
   "metadata": {},
   "outputs": [],
   "source": []
  },
  {
   "cell_type": "code",
   "execution_count": 130,
   "id": "1a135db7-b220-4ce2-a7d9-ca21db794afb",
   "metadata": {},
   "outputs": [
    {
     "name": "stdout",
     "output_type": "stream",
     "text": [
      "b''\n",
      "b''\n",
      "b''\n",
      "b''\n",
      "b''\n"
     ]
    }
   ],
   "source": [
    "s = bytes.fromhex(readDEC)\n",
    "ser.write(s)\n",
    "data = ser.readline()\n",
    "print(data)\n",
    "data = ser.readline()\n",
    "print(data)\n",
    "data = ser.readline()\n",
    "print(data)\n",
    "data = ser.readline()\n",
    "print(data)\n",
    "data = ser.readline()\n",
    "print(data)\n",
    "#index += 1"
   ]
  },
  {
   "cell_type": "code",
   "execution_count": 106,
   "id": "0c0dadfe-62f5-4840-bbba-7cb0dc25f2f4",
   "metadata": {},
   "outputs": [
    {
     "name": "stdout",
     "output_type": "stream",
     "text": [
      "b'#'\n"
     ]
    }
   ],
   "source": [
    "#GOTO_RA = \"5004100237851500\"\n",
    "#GOTO_DEC = \"5004110285555500\"\n",
    "\n",
    "alt = GOTO_DEC(120, True)\n",
    "azi = GOTO_RA(0)\n",
    "#print(dec)\n",
    "\n",
    "s = bytes.fromhex(alt)\n",
    "#s = bytes.fromhex(GOTO_RA)\n",
    "ser.write(s)\n",
    "data = ser.readline()\n",
    "print(data)"
   ]
  },
  {
   "cell_type": "code",
   "execution_count": 107,
   "id": "66d3ef3e-6a1c-40d6-a048-d74a00ff470e",
   "metadata": {},
   "outputs": [
    {
     "name": "stdout",
     "output_type": "stream",
     "text": [
      "b'#'\n"
     ]
    }
   ],
   "source": [
    "alt = GOTO_DEC(20, True)\n",
    "azi = GOTO_RA(90)\n",
    "#print(dec)\n",
    "\n",
    "s = bytes.fromhex(azi)\n",
    "#s = bytes.fromhex(GOTO_RA)\n",
    "ser.write(s)\n",
    "data = ser.readline()\n",
    "print(data)"
   ]
  },
  {
   "cell_type": "code",
   "execution_count": 205,
   "id": "e5fa8f1a-53fa-4edd-95e8-cd26caf1bdb5",
   "metadata": {},
   "outputs": [
    {
     "name": "stdout",
     "output_type": "stream",
     "text": [
      "4\n",
      "b'@\\x00\\x00#'\n"
     ]
    }
   ],
   "source": [
    "GET_RA = \"5001100100000003\"\n",
    "GET_DEC = \"5001110100000003\"\n",
    "\n",
    "s = bytes.fromhex(GET_RA)\n",
    "ser.write(s)\n",
    "data = ser.readline()\n",
    "#data = str(data)\n",
    "print(len(data))\n",
    "print(data)\n",
    "\n"
   ]
  },
  {
   "cell_type": "code",
   "execution_count": 19,
   "id": "5b70a6fb-83ae-4e4f-970f-9d23be1ce265",
   "metadata": {},
   "outputs": [
    {
     "name": "stdout",
     "output_type": "stream",
     "text": [
      "77.06655979156494\n",
      "90.0\n"
     ]
    }
   ],
   "source": [
    "print(GET_RA()) # 340(-20) - 90 - 200\n",
    "print(GET_DEC()) # 0 - 90 - 0"
   ]
  },
  {
   "cell_type": "code",
   "execution_count": 13,
   "id": "dbc6fe6b-ffe4-4fbf-8bcd-e7aaa12f34e6",
   "metadata": {},
   "outputs": [
    {
     "name": "stdout",
     "output_type": "stream",
     "text": [
      "b''\n"
     ]
    }
   ],
   "source": [
    "data = ser.readline()\n",
    "print(data)"
   ]
  },
  {
   "cell_type": "code",
   "execution_count": 12,
   "id": "a7ef0ca9-2f6a-445e-8162-f4a4aadb4dfb",
   "metadata": {},
   "outputs": [
    {
     "name": "stdout",
     "output_type": "stream",
     "text": [
      "b'#'\n"
     ]
    }
   ],
   "source": [
    "s = \"5002112400000000\"\n",
    "s = bytes.fromhex(s)\n",
    "ser.write(s)\n",
    "data = ser.readline()\n",
    "print(data)"
   ]
  },
  {
   "cell_type": "code",
   "execution_count": 21,
   "id": "7cea1caf-6424-46e8-8108-666ab3a5c689",
   "metadata": {},
   "outputs": [
    {
     "name": "stdout",
     "output_type": "stream",
     "text": [
      "b'6AEC,32BD#'\n"
     ]
    }
   ],
   "source": [
    "#37: 00110111\n",
    "#85: 10000101\n",
    "#15: 00010101\n",
    "s = bytes.fromhex(\"45\")\n",
    "ser.write(s)\n",
    "data = ser.readline()\n",
    "print(data)\n",
    "#print(decodeAngle(\"57\", \"0F\", \"\"))"
   ]
  },
  {
   "cell_type": "code",
   "execution_count": 7,
   "id": "e8a9f6d7-e3d3-4f26-9f11-cf82fe244634",
   "metadata": {},
   "outputs": [
    {
     "name": "stdout",
     "output_type": "stream",
     "text": [
      "2024-04-23 08:50:47.037754\n",
      "160.76048382182313\n",
      "test1 124.18333333333334\n",
      "test3 160.76048382182313\n",
      "Motor1 goes to:  160.76048382182313  and Motor2 goes to:  124.18333333333334\n"
     ]
    },
    {
     "ename": "PortNotOpenError",
     "evalue": "Attempting to use a port that is not open",
     "output_type": "error",
     "traceback": [
      "\u001b[1;31m---------------------------------------------------------------------------\u001b[0m",
      "\u001b[1;31mPortNotOpenError\u001b[0m                          Traceback (most recent call last)",
      "\u001b[1;32m~\\AppData\\Local\\Temp/ipykernel_6008/789958026.py\u001b[0m in \u001b[0;36m<module>\u001b[1;34m\u001b[0m\n\u001b[0;32m    162\u001b[0m \u001b[1;33m\u001b[0m\u001b[0m\n\u001b[0;32m    163\u001b[0m \u001b[1;31m#GOTO_RADEC(timeToHour(18, 37, 45.5), angleToDecimal(38, 48, 1.5))\u001b[0m\u001b[1;33m\u001b[0m\u001b[1;33m\u001b[0m\u001b[0m\n\u001b[1;32m--> 164\u001b[1;33m \u001b[0mGOTO_RADEC\u001b[0m\u001b[1;33m(\u001b[0m\u001b[0mtimeToHour\u001b[0m\u001b[1;33m(\u001b[0m\u001b[1;36m12\u001b[0m\u001b[1;33m,\u001b[0m \u001b[1;36m55\u001b[0m\u001b[1;33m,\u001b[0m \u001b[1;36m2.49\u001b[0m\u001b[1;33m)\u001b[0m\u001b[1;33m,\u001b[0m \u001b[0mangleToDecimal\u001b[0m\u001b[1;33m(\u001b[0m\u001b[1;36m55\u001b[0m\u001b[1;33m,\u001b[0m \u001b[1;36m49\u001b[0m\u001b[1;33m,\u001b[0m \u001b[1;36m0.0\u001b[0m\u001b[1;33m)\u001b[0m\u001b[1;33m)\u001b[0m \u001b[1;31m## MOON\u001b[0m\u001b[1;33m\u001b[0m\u001b[1;33m\u001b[0m\u001b[0m\n\u001b[0m\u001b[0;32m    165\u001b[0m \u001b[1;31m#GOTO_RADEC(timeToHour(3, 9, 34.79), angleToDecimal(16, 46, 41.1)) ## ALIOTH\u001b[0m\u001b[1;33m\u001b[0m\u001b[1;33m\u001b[0m\u001b[0m\n",
      "\u001b[1;32m~\\AppData\\Local\\Temp/ipykernel_6008/789958026.py\u001b[0m in \u001b[0;36mGOTO_RADEC\u001b[1;34m(RA, DEC)\u001b[0m\n\u001b[0;32m    158\u001b[0m \u001b[1;33m\u001b[0m\u001b[0m\n\u001b[0;32m    159\u001b[0m     \u001b[0mprint\u001b[0m\u001b[1;33m(\u001b[0m\u001b[1;34m\"Motor1 goes to: \"\u001b[0m\u001b[1;33m,\u001b[0m \u001b[0mangle1\u001b[0m\u001b[1;33m,\u001b[0m \u001b[1;34m\" and Motor2 goes to: \"\u001b[0m\u001b[1;33m,\u001b[0m \u001b[0mangle2\u001b[0m\u001b[1;33m)\u001b[0m\u001b[1;33m\u001b[0m\u001b[1;33m\u001b[0m\u001b[0m\n\u001b[1;32m--> 160\u001b[1;33m     \u001b[0mGOTO_MOT1MOT2\u001b[0m\u001b[1;33m(\u001b[0m\u001b[0mangle1\u001b[0m\u001b[1;33m,\u001b[0m \u001b[0mangle2\u001b[0m\u001b[1;33m)\u001b[0m\u001b[1;33m\u001b[0m\u001b[1;33m\u001b[0m\u001b[0m\n\u001b[0m\u001b[0;32m    161\u001b[0m \u001b[1;33m\u001b[0m\u001b[0m\n\u001b[0;32m    162\u001b[0m \u001b[1;33m\u001b[0m\u001b[0m\n",
      "\u001b[1;32m~\\AppData\\Local\\Temp/ipykernel_6008/789958026.py\u001b[0m in \u001b[0;36mGOTO_MOT1MOT2\u001b[1;34m(angle1, angle2)\u001b[0m\n\u001b[0;32m     45\u001b[0m \u001b[1;33m\u001b[0m\u001b[0m\n\u001b[0;32m     46\u001b[0m     \u001b[0ms\u001b[0m \u001b[1;33m=\u001b[0m \u001b[0mbytes\u001b[0m\u001b[1;33m.\u001b[0m\u001b[0mfromhex\u001b[0m\u001b[1;33m(\u001b[0m\u001b[0mdec_fast\u001b[0m\u001b[1;33m)\u001b[0m\u001b[1;33m\u001b[0m\u001b[1;33m\u001b[0m\u001b[0m\n\u001b[1;32m---> 47\u001b[1;33m     \u001b[0mser\u001b[0m\u001b[1;33m.\u001b[0m\u001b[0mwrite\u001b[0m\u001b[1;33m(\u001b[0m\u001b[0ms\u001b[0m\u001b[1;33m)\u001b[0m\u001b[1;33m\u001b[0m\u001b[1;33m\u001b[0m\u001b[0m\n\u001b[0m\u001b[0;32m     48\u001b[0m     \u001b[0mdata\u001b[0m \u001b[1;33m=\u001b[0m \u001b[0mser\u001b[0m\u001b[1;33m.\u001b[0m\u001b[0mreadline\u001b[0m\u001b[1;33m(\u001b[0m\u001b[1;33m)\u001b[0m\u001b[1;33m\u001b[0m\u001b[1;33m\u001b[0m\u001b[0m\n\u001b[0;32m     49\u001b[0m     \u001b[0mprint\u001b[0m\u001b[1;33m(\u001b[0m\u001b[0mdata\u001b[0m\u001b[1;33m)\u001b[0m\u001b[1;33m\u001b[0m\u001b[1;33m\u001b[0m\u001b[0m\n",
      "\u001b[1;32mC:\\ProgramData\\Anaconda3\\lib\\site-packages\\serial\\serialwin32.py\u001b[0m in \u001b[0;36mwrite\u001b[1;34m(self, data)\u001b[0m\n\u001b[0;32m    304\u001b[0m         \u001b[1;34m\"\"\"Output the given byte string over the serial port.\"\"\"\u001b[0m\u001b[1;33m\u001b[0m\u001b[1;33m\u001b[0m\u001b[0m\n\u001b[0;32m    305\u001b[0m         \u001b[1;32mif\u001b[0m \u001b[1;32mnot\u001b[0m \u001b[0mself\u001b[0m\u001b[1;33m.\u001b[0m\u001b[0mis_open\u001b[0m\u001b[1;33m:\u001b[0m\u001b[1;33m\u001b[0m\u001b[1;33m\u001b[0m\u001b[0m\n\u001b[1;32m--> 306\u001b[1;33m             \u001b[1;32mraise\u001b[0m \u001b[0mPortNotOpenError\u001b[0m\u001b[1;33m(\u001b[0m\u001b[1;33m)\u001b[0m\u001b[1;33m\u001b[0m\u001b[1;33m\u001b[0m\u001b[0m\n\u001b[0m\u001b[0;32m    307\u001b[0m         \u001b[1;31m#~ if not isinstance(data, (bytes, bytearray)):\u001b[0m\u001b[1;33m\u001b[0m\u001b[1;33m\u001b[0m\u001b[0m\n\u001b[0;32m    308\u001b[0m             \u001b[1;31m#~ raise TypeError('expected %s or bytearray, got %s' % (bytes, type(data)))\u001b[0m\u001b[1;33m\u001b[0m\u001b[1;33m\u001b[0m\u001b[0m\n",
      "\u001b[1;31mPortNotOpenError\u001b[0m: Attempting to use a port that is not open"
     ]
    }
   ],
   "source": [
    "from datetime import datetime, timezone\n",
    "from astropy.coordinates import EarthLocation\n",
    "from astropy.time import Time\n",
    "from astropy import units as u\n",
    "\n",
    "#observing_location = EarthLocation(lat=51.545*u.deg, lon=9.905*u.deg, height = 153)\n",
    "print(datetime.utcnow())\n",
    "#observation_time = Time(datetime.utcnow(), scale='utc', location=observing_location)\n",
    "#print(observation_time)\n",
    "#LST = observation_time.sidereal_time(kind = \"apparent\", longitude = 9.905 * u.deg)\n",
    "#print(LST)\n",
    "#print(4 + 22/60 + 31/3600)\n",
    "#print(LST.hour + 6) #apparant also possible to account for nutation\n",
    "#print(type(LST))\n",
    "def timeToHour(hour, minute, second):\n",
    "    \n",
    "    hour = hour%24\n",
    "    minute = minute%60\n",
    "    second = second%60\n",
    "    return hour + minute * (1/60) + second * (1/3600)\n",
    "\n",
    "def angleToDecimal(degree, minute, second):\n",
    "    \n",
    "    degree = degree%360\n",
    "    minute = minute%60\n",
    "    second = second%60\n",
    "    return degree + minute * (1/60) + second * (1/3600)\n",
    "\n",
    "def AngleDiff(LST, RA):\n",
    "    hourDiff = (RA-LST) % 24\n",
    "    if hourDiff > 12:\n",
    "        hourDiff = -24 + hourDiff\n",
    "    \n",
    "    convertAngle = hourDiff * 15\n",
    "            \n",
    "    return convertAngle\n",
    "\n",
    "def GOTO_MOT1MOT2(angle1, angle2):\n",
    "    \n",
    "    dec_fast = GOTO_DEC(angle2, True)\n",
    "    dec_slow = GOTO_DEC(angle2, False)\n",
    "    \n",
    "    ra_fast = GOTO_RA(angle1, True)\n",
    "    ra_slow = GOTO_RA(angle1, False)\n",
    "    \n",
    "    s = bytes.fromhex(dec_fast)\n",
    "    ser.write(s)\n",
    "    data = ser.readline()\n",
    "    print(data)\n",
    "    \n",
    "    s = bytes.fromhex(ra_fast)\n",
    "    ser.write(s)\n",
    "    data = ser.readline()\n",
    "    print(data)\n",
    "    \n",
    "    ra_running_quest = \"5001101300000001\"\n",
    "    ra_running_quest = bytes.fromhex(ra_running_quest)\n",
    "    dec_running_quest = \"5001101300000001\"\n",
    "    dec_running_quest = bytes.fromhex(dec_running_quest)\n",
    "    \n",
    "    test = False\n",
    "    while not test:\n",
    "        ser.write(ra_running_quest)\n",
    "        data = ser.readline()\n",
    "        h1 = hex(data[0])\n",
    "        h2 = hex(data[1])\n",
    "        #print(h1, h2, end=\"\\r\")\n",
    "        print(h1, h2)\n",
    "        if h1 == hex(255):\n",
    "            ra_running = True\n",
    "        else:\n",
    "            ra_running = False\n",
    "            \n",
    "        ser.write(dec_running_quest)\n",
    "        data = ser.readline()\n",
    "        h1 = hex(data[0])\n",
    "        h2 = hex(data[1])\n",
    "        #print(h1, h2, end=\"\\r\")\n",
    "        print(h1, h2)\n",
    "        if h1 == hex(255):\n",
    "            dec_running = True\n",
    "        else:\n",
    "            dec_running = False\n",
    "            \n",
    "        if dec_running and ra_running:\n",
    "            test = True\n",
    "            \n",
    "    s = bytes.fromhex(dec_slow)\n",
    "    ser.write(s)\n",
    "    data = ser.readline()\n",
    "    print(data)\n",
    "    \n",
    "    s = bytes.fromhex(ra_slow)\n",
    "    ser.write(s)\n",
    "    data = ser.readline()\n",
    "    print(data)\n",
    "    \n",
    "    ra_running_quest = \"5001101300000001\"\n",
    "    ra_running_quest = bytes.fromhex(ra_running_quest)\n",
    "    dec_running_quest = \"5001101300000001\"\n",
    "    dec_running_quest = bytes.fromhex(dec_running_quest)\n",
    "    \n",
    "    test = False\n",
    "    while not test:\n",
    "        ser.write(ra_running_quest)\n",
    "        data = ser.readline()\n",
    "        h1 = hex(data[0])\n",
    "        h2 = hex(data[1])\n",
    "        #print(h1, h2, end=\"\\r\")\n",
    "        print(h1, h2)\n",
    "        if h1 == hex(255):\n",
    "            ra_running = True\n",
    "        else:\n",
    "            ra_running = False\n",
    "            \n",
    "        ser.write(dec_running_quest)\n",
    "        data = ser.readline()\n",
    "        h1 = hex(data[0])\n",
    "        h2 = hex(data[1])\n",
    "        #print(h1, h2, end=\"\\r\")\n",
    "        print(h1, h2)\n",
    "        if h1 == hex(255):\n",
    "            dec_running = True\n",
    "        else:\n",
    "            dec_running = False\n",
    "            \n",
    "        if dec_running and ra_running:\n",
    "            test = True\n",
    "\n",
    "    print(GET_RA())\n",
    "    print(GET_DEC())\n",
    "    return 0\n",
    "\n",
    "\n",
    "def GOTO_RADEC(RA, DEC):\n",
    "    observing_location = EarthLocation(lat= angleToDecimal(51, 32, 3.95) * u.deg, lon= angleToDecimal(9, 55, 56.21) * u.deg, height = 153)\n",
    "    time_now = datetime.utcnow()\n",
    "    observation_time = Time(time_now, scale='utc', location=observing_location)\n",
    "    LST = observation_time.sidereal_time(kind = \"apparent\", longitude = angleToDecimal(9, 55, 56.21) * u.deg)\n",
    "    LST = LST.hour\n",
    "    angle = AngleDiff(RA, LST)\n",
    "    sign = np.sign(angle)\n",
    "    print(angle)\n",
    "    \n",
    "    if sign >= 0:\n",
    "        angle2 = 180 - DEC\n",
    "        print(\"test1\", 180-DEC)\n",
    "    else:\n",
    "        angle2 = DEC\n",
    "        print(\"test2\", DEC)\n",
    "        \n",
    "    if sign >= 0:\n",
    "        angle1 = angle\n",
    "        print(\"test3\", angle)\n",
    "    else:\n",
    "        angle1 = angle%180\n",
    "        print(\"test4\", angle%180)\n",
    "    \n",
    "    print(\"Motor1 goes to: \", angle1, \" and Motor2 goes to: \", angle2)\n",
    "    GOTO_MOT1MOT2(angle1, angle2)\n",
    "        \n",
    "        \n",
    "#GOTO_RADEC(timeToHour(18, 37, 45.5), angleToDecimal(38, 48, 1.5))\n",
    "GOTO_RADEC(timeToHour(12, 55, 2.49), angleToDecimal(55, 49, 0.0)) ## MOON\n",
    "#GOTO_RADEC(timeToHour(3, 9, 34.79), angleToDecimal(16, 46, 41.1)) ## ALIOTH"
   ]
  },
  {
   "cell_type": "code",
   "execution_count": 20,
   "id": "24ea49e8-4b0b-45c6-9252-e99bf873c19f",
   "metadata": {},
   "outputs": [
    {
     "name": "stdout",
     "output_type": "stream",
     "text": [
      "b'#'\n",
      "b'#'\n",
      "0x0 0x23\n",
      "0x0 0x23\n",
      "0x0 0x23\n",
      "0x0 0x23\n",
      "0x0 0x23\n",
      "0x0 0x23\n",
      "0x0 0x23\n",
      "0x0 0x23\n",
      "0x0 0x23\n",
      "0x0 0x23\n",
      "0x0 0x23\n",
      "0x0 0x23\n",
      "0x0 0x23\n",
      "0x0 0x23\n",
      "0x0 0x23\n",
      "0x0 0x23\n",
      "0x0 0x23\n",
      "0x0 0x23\n",
      "0x0 0x23\n",
      "0x0 0x23\n",
      "0x0 0x23\n",
      "0x0 0x23\n",
      "0x0 0x23\n",
      "0xff 0x23\n",
      "0xff 0x23\n",
      "0xff 0x23\n",
      "b'#'\n",
      "b'#'\n",
      "0x0 0x23\n",
      "0x0 0x23\n",
      "0x0 0x23\n",
      "0x0 0x23\n",
      "0x0 0x23\n",
      "0x0 0x23\n",
      "0x0 0x23\n",
      "0x0 0x23\n",
      "0x0 0x23\n",
      "0x0 0x23\n",
      "0x0 0x23\n",
      "0x0 0x23\n",
      "0x0 0x23\n",
      "0x0 0x23\n",
      "0x0 0x23\n",
      "0x0 0x23\n",
      "0x0 0x23\n",
      "0x0 0x23\n",
      "0x0 0x23\n",
      "0x0 0x23\n",
      "0x0 0x23\n",
      "0x0 0x23\n",
      "0x0 0x23\n",
      "0x0 0x23\n",
      "0x0 0x23\n",
      "0x0 0x23\n",
      "0x0 0x23\n",
      "0x0 0x23\n",
      "0x0 0x23\n",
      "0x0 0x23\n",
      "0x0 0x23\n",
      "0x0 0x23\n",
      "0x0 0x23\n",
      "0x0 0x23\n",
      "0x0 0x23\n",
      "0x0 0x23\n",
      "0x0 0x23\n",
      "0x0 0x23\n",
      "0x0 0x23\n",
      "0x0 0x23\n",
      "0x0 0x23\n",
      "0x0 0x23\n",
      "0x0 0x23\n",
      "0x0 0x23\n",
      "0x0 0x23\n",
      "0x0 0x23\n",
      "0x0 0x23\n",
      "0x0 0x23\n",
      "0x0 0x23\n",
      "0x0 0x23\n",
      "0x0 0x23\n",
      "0x0 0x23\n",
      "0x0 0x23\n",
      "0x0 0x23\n",
      "0x0 0x23\n",
      "0xff 0x23\n",
      "0xff 0x23\n",
      "0xff 0x23\n",
      "90.00092267990112\n",
      "90.00072956085205\n"
     ]
    },
    {
     "data": {
      "text/plain": [
       "0"
      ]
     },
     "execution_count": 20,
     "metadata": {},
     "output_type": "execute_result"
    }
   ],
   "source": [
    "GOTO_MOT1MOT2(90, 90)"
   ]
  },
  {
   "cell_type": "code",
   "execution_count": 159,
   "id": "43c89ab1-84c9-499c-89ad-f3a6fb28e11e",
   "metadata": {},
   "outputs": [
    {
     "name": "stdout",
     "output_type": "stream",
     "text": [
      "-105\n"
     ]
    }
   ],
   "source": [
    "print(AngleDiff(18, 1))"
   ]
  },
  {
   "cell_type": "code",
   "execution_count": 138,
   "id": "69ff6f28-0bcb-4e9f-bc23-f415051ddccc",
   "metadata": {},
   "outputs": [
    {
     "name": "stdout",
     "output_type": "stream",
     "text": [
      "18\n"
     ]
    }
   ],
   "source": [
    "print(-6%24)"
   ]
  },
  {
   "cell_type": "code",
   "execution_count": 150,
   "id": "463d15f5-b9d9-43f5-9bb3-61d68e1d8a90",
   "metadata": {},
   "outputs": [
    {
     "name": "stdout",
     "output_type": "stream",
     "text": [
      "110\n"
     ]
    }
   ],
   "source": [
    "print(-70%180)"
   ]
  },
  {
   "cell_type": "code",
   "execution_count": 17,
   "id": "727e5d3c-d585-4cde-959f-37340310c10d",
   "metadata": {},
   "outputs": [
    {
     "name": "stdout",
     "output_type": "stream",
     "text": [
      "0xff\n"
     ]
    }
   ],
   "source": [
    "print(hex(255))"
   ]
  },
  {
   "cell_type": "code",
   "execution_count": null,
   "id": "1760c7ac-a004-4b41-b97a-b1e7f4cb3c89",
   "metadata": {},
   "outputs": [],
   "source": []
  }
 ],
 "metadata": {
  "kernelspec": {
   "display_name": "Python 3 (ipykernel)",
   "language": "python",
   "name": "python3"
  },
  "language_info": {
   "codemirror_mode": {
    "name": "ipython",
    "version": 3
   },
   "file_extension": ".py",
   "mimetype": "text/x-python",
   "name": "python",
   "nbconvert_exporter": "python",
   "pygments_lexer": "ipython3",
   "version": "3.9.7"
  }
 },
 "nbformat": 4,
 "nbformat_minor": 5
}
